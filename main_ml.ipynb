{
 "cells": [
  {
   "cell_type": "code",
   "execution_count": null,
   "metadata": {},
   "outputs": [],
   "source": [
    "%pip install -r requirements.txt"
   ]
  },
  {
   "cell_type": "code",
   "execution_count": null,
   "metadata": {},
   "outputs": [],
   "source": [
    "# nohup python train_data_gen.py --audio_dir \"/data/AAG/MTech_Project_Data/speech_data_filter\"  --cnt 2500  --train_dir \"train_data\" --test_dir \"test_data\" --output_path \"pkl_data\"  --target_fs_values 16000 --clipping_thresholds 0.1 0.2 --time_clip 1 --win_len 500  --win_shift 125 --delta 300 --s_ratio 0.9 > data_gen_log.txt 2>&1 &"
   ]
  },
  {
   "cell_type": "code",
   "execution_count": null,
   "metadata": {},
   "outputs": [],
   "source": [
    "# !python train_data_gen.py --audio_dir \"/data/AAG/MTech_Project_Data/speech_data_filter\" \\\n",
    "#     --cnt 5 --train_dir \"train_data\" --test_dir \"test_data\" --output_path \"pkl_data\" \\\n",
    "#     --target_fs_values 16000 --clipping_thresholds 0.1 0.2 --time_clip 1 --win_len 500 \\\n",
    "#     --win_shift 125 --delta 300 --s_ratio 0.9 "
   ]
  },
  {
   "cell_type": "code",
   "execution_count": null,
   "metadata": {},
   "outputs": [],
   "source": [
    "# nohup python training.py --pkl_path pkl_data/training_data.pkl --epochs 200 --batch_size 1024 --save_path saved_models --plot_path loss_plots --checkpoint_freq 10 --resume  > training_log.txt 2>&1 &"
   ]
  },
  {
   "cell_type": "code",
   "execution_count": null,
   "metadata": {},
   "outputs": [],
   "source": [
    "# !python training.py --pkl_path pkl_data/training_data.pkl \\\n",
    "#     --epochs 20 \\\n",
    "#     --batch_size 128 \\\n",
    "#     --save_path saved_models \\\n",
    "#     --plot_path loss_plots \\\n",
    "#     --checkpoint_freq 10 \\\n",
    "#     --resume "
   ]
  },
  {
   "cell_type": "code",
   "execution_count": null,
   "metadata": {},
   "outputs": [],
   "source": [
    "!python evaluate.py --model_path \"saved_models/final/complex_dft_unet_final.pth\" \\\n",
    "    --test_audio_dir \"custom_sound\" \\\n",
    "    --output_dir \"custom_output\" \\\n",
    "    --target_fs_values 16000 \\\n",
    "    --clipping_thresholds 0.1 \\\n",
    "    --time_clip 1 \\\n",
    "    --factor 0.8 \\\n",
    "    --train_gen_mode 0 \\\n",
    "    --eval_mode 1 \\\n",
    "    --dynamic 0"
   ]
  },
  {
   "cell_type": "code",
   "execution_count": 3,
   "metadata": {},
   "outputs": [],
   "source": [
    "import pickle\n",
    "\n",
    "# Path to your .pkl file\n",
    "file_path = \"pkl_data/training_data.pkl\"\n",
    "\n",
    "# Load the pickle file\n",
    "with open(file_path, \"rb\") as f:\n",
    "    data = pickle.load(f)"
   ]
  }
 ],
 "metadata": {
  "kernelspec": {
   "display_name": "aagproj",
   "language": "python",
   "name": "python3"
  },
  "language_info": {
   "codemirror_mode": {
    "name": "ipython",
    "version": 3
   },
   "file_extension": ".py",
   "mimetype": "text/x-python",
   "name": "python",
   "nbconvert_exporter": "python",
   "pygments_lexer": "ipython3",
   "version": "3.9.22"
  }
 },
 "nbformat": 4,
 "nbformat_minor": 2
}
