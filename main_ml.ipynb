{
 "cells": [
  {
   "cell_type": "code",
   "execution_count": null,
   "metadata": {},
   "outputs": [],
   "source": [
    "%pip install -r requirements.txt"
   ]
  },
  {
   "cell_type": "code",
   "execution_count": null,
   "metadata": {},
   "outputs": [],
   "source": [
    "# nohup python train_data_gen.py --audio_dir \"/data/AAG/MTech_Project_Data/speech_data_filter\"  --cnt 2500  --train_dir \"train_data\" --test_dir \"test_data\" --output_path \"pkl_data\"  --target_fs_values 16000 --clipping_thresholds 0.1 0.2 --time_clip 1 --win_len 500  --win_shift 125 --delta 300 --s_ratio 0.9 > data_gen_log.txt 2>&1 &"
   ]
  },
  {
   "cell_type": "code",
   "execution_count": null,
   "metadata": {},
   "outputs": [],
   "source": [
    "# !python segregate.py --audio_dir \"/data2/AAG/Ausio_Declip/MTech_Project_Data/speech_data_filter\" \\\n",
    "#     --cnt 10 --train_dir \"train_data\" --test_dir \"test_data\" --s_ratio 0.9 "
   ]
  },
  {
   "cell_type": "code",
   "execution_count": null,
   "metadata": {},
   "outputs": [],
   "source": [
    "# nohup python train_data_gen.py --audio_dir \"/data2/AAG/Audio_Declip/train_data\" --output_path \"pkl_data\" --target_fs_values 16000 --clipping_thresholds 0.2 0.4 0.6 0.8 --time_clip 1 --win_len 500 --win_shift 125 --delta 300 > train_gen.log 2>&1 &\n",
    "    "
   ]
  },
  {
   "cell_type": "code",
   "execution_count": null,
   "metadata": {},
   "outputs": [],
   "source": [
    "# nohup python training.py --pkl_path pkl_data/training_data.pkl --epochs 500 --batch_size 128 --save_path saved_models --plot_path loss_plots --checkpoint_freq 50 --val_split 0.2 --resume --val > training_log.log 2>&1 &"
   ]
  },
  {
   "cell_type": "code",
   "execution_count": null,
   "metadata": {},
   "outputs": [
    {
     "name": "stdout",
     "output_type": "stream",
     "text": [
      "Small data saved to /data2/AAG/Audio_Declip/pkl_data/small_training_data.pkl\n"
     ]
    }
   ],
   "source": [
    "# import pickle\n",
    "\n",
    "# # Define the file path on the server\n",
    "# file_path = '/data2/AAG/Audio_Declip/pkl_data/training_data.pkl'\n",
    "\n",
    "# # Load the .pkl file\n",
    "# with open(file_path, 'rb') as file:\n",
    "#     data = pickle.load(file)\n",
    "\n",
    "# # Extract a small portion of the data (e.g., first 1000 rows if it's a DataFrame or a subset if it's a different structure)\n",
    "# small_data = data[:10000] if isinstance(data, list) else data\n",
    "\n",
    "# # Save the small data as a new .pkl file\n",
    "# small_data_path = '/data2/AAG/Audio_Declip/pkl_data/small_training_data.pkl'\n",
    "# with open(small_data_path, 'wb') as file:\n",
    "#     pickle.dump(small_data, file)\n",
    "\n",
    "# print(f\"Small data saved to {small_data_path}\")"
   ]
  },
  {
   "cell_type": "code",
   "execution_count": 8,
   "metadata": {},
   "outputs": [
    {
     "name": "stdout",
     "output_type": "stream",
     "text": [
      "Training samples: 8000, Validation samples: 2000\n",
      "Using device: cuda\n",
      "Epoch [1/50], Train Loss: 1.689895, Val Loss: 1.979414, Train DFT Loss: 1.584059, Val DFT Loss: 1.889423, Train Sparsity Loss: 0.211672, Val Sparsity Loss: 0.179981\n",
      "Epoch [2/50], Train Loss: 1.114992, Val Loss: 1.281029, Train DFT Loss: 1.057002, Val DFT Loss: 1.239929, Train Sparsity Loss: 0.115979, Val Sparsity Loss: 0.082199\n",
      "Epoch [3/50], Train Loss: 0.827978, Val Loss: 0.759687, Train DFT Loss: 0.795634, Val DFT Loss: 0.726308, Train Sparsity Loss: 0.064689, Val Sparsity Loss: 0.066758\n",
      "Epoch [4/50], Train Loss: 0.605242, Val Loss: 0.511260, Train DFT Loss: 0.581141, Val DFT Loss: 0.474899, Train Sparsity Loss: 0.048202, Val Sparsity Loss: 0.072723\n",
      "Epoch [5/50], Train Loss: 0.466938, Val Loss: 0.418420, Train DFT Loss: 0.457206, Val DFT Loss: 0.407950, Train Sparsity Loss: 0.019464, Val Sparsity Loss: 0.020939\n",
      "Checkpoint saved to saved_models/checkpoint.pt\n",
      "Epoch [6/50], Train Loss: 0.427069, Val Loss: 0.438720, Train DFT Loss: 0.422139, Val DFT Loss: 0.403917, Train Sparsity Loss: 0.009859, Val Sparsity Loss: 0.069606\n",
      "Epoch [7/50], Train Loss: 0.412048, Val Loss: 0.412387, Train DFT Loss: 0.409099, Val DFT Loss: 0.410517, Train Sparsity Loss: 0.005897, Val Sparsity Loss: 0.003740\n",
      "Epoch [8/50], Train Loss: 0.397911, Val Loss: 0.468761, Train DFT Loss: 0.395269, Val DFT Loss: 0.434848, Train Sparsity Loss: 0.005284, Val Sparsity Loss: 0.067827\n",
      "Epoch [9/50], Train Loss: 0.389059, Val Loss: 0.411506, Train DFT Loss: 0.386779, Val DFT Loss: 0.398952, Train Sparsity Loss: 0.004558, Val Sparsity Loss: 0.025108\n",
      "Epoch [10/50], Train Loss: 0.385718, Val Loss: 0.428987, Train DFT Loss: 0.383400, Val DFT Loss: 0.392401, Train Sparsity Loss: 0.004634, Val Sparsity Loss: 0.073173\n",
      "Checkpoint saved to saved_models/checkpoint.pt\n",
      "Epoch [11/50], Train Loss: 0.380525, Val Loss: 0.449297, Train DFT Loss: 0.378086, Val DFT Loss: 0.406470, Train Sparsity Loss: 0.004877, Val Sparsity Loss: 0.085653\n",
      "Epoch [12/50], Train Loss: 0.373533, Val Loss: 0.421274, Train DFT Loss: 0.372177, Val DFT Loss: 0.385767, Train Sparsity Loss: 0.002712, Val Sparsity Loss: 0.071014\n",
      "Epoch [13/50], Train Loss: 0.362159, Val Loss: 0.397250, Train DFT Loss: 0.360753, Val DFT Loss: 0.392667, Train Sparsity Loss: 0.002813, Val Sparsity Loss: 0.009165\n",
      "Epoch [14/50], Train Loss: 0.359724, Val Loss: 0.389820, Train DFT Loss: 0.358343, Val DFT Loss: 0.385560, Train Sparsity Loss: 0.002764, Val Sparsity Loss: 0.008520\n",
      "Epoch [15/50], Train Loss: 0.362643, Val Loss: 0.379372, Train DFT Loss: 0.360963, Val DFT Loss: 0.377769, Train Sparsity Loss: 0.003361, Val Sparsity Loss: 0.003206\n",
      "Checkpoint saved to saved_models/checkpoint.pt\n",
      "Epoch [16/50], Train Loss: 0.357561, Val Loss: 0.374479, Train DFT Loss: 0.356105, Val DFT Loss: 0.373601, Train Sparsity Loss: 0.002911, Val Sparsity Loss: 0.001756\n",
      "Epoch [17/50], Train Loss: 0.347816, Val Loss: 0.385730, Train DFT Loss: 0.346535, Val DFT Loss: 0.370546, Train Sparsity Loss: 0.002561, Val Sparsity Loss: 0.030368\n",
      "Epoch [18/50], Train Loss: 0.342652, Val Loss: 0.574208, Train DFT Loss: 0.341325, Val DFT Loss: 0.564901, Train Sparsity Loss: 0.002655, Val Sparsity Loss: 0.018614\n",
      "Epoch [19/50], Train Loss: 0.336606, Val Loss: 0.450871, Train DFT Loss: 0.334974, Val DFT Loss: 0.444931, Train Sparsity Loss: 0.003264, Val Sparsity Loss: 0.011881\n",
      "Epoch [20/50], Train Loss: 0.329126, Val Loss: 0.375480, Train DFT Loss: 0.327842, Val DFT Loss: 0.373716, Train Sparsity Loss: 0.002567, Val Sparsity Loss: 0.003526\n",
      "Checkpoint saved to saved_models/checkpoint.pt\n",
      "Epoch [21/50], Train Loss: 0.328374, Val Loss: 0.369966, Train DFT Loss: 0.326967, Val DFT Loss: 0.368625, Train Sparsity Loss: 0.002814, Val Sparsity Loss: 0.002682\n",
      "Epoch [22/50], Train Loss: 0.326687, Val Loss: 0.371689, Train DFT Loss: 0.325279, Val DFT Loss: 0.363690, Train Sparsity Loss: 0.002816, Val Sparsity Loss: 0.016000\n",
      "Epoch [23/50], Train Loss: 0.316668, Val Loss: 0.399041, Train DFT Loss: 0.315614, Val DFT Loss: 0.392328, Train Sparsity Loss: 0.002109, Val Sparsity Loss: 0.013426\n",
      "Epoch [24/50], Train Loss: 0.313087, Val Loss: 0.372944, Train DFT Loss: 0.312038, Val DFT Loss: 0.362570, Train Sparsity Loss: 0.002098, Val Sparsity Loss: 0.020749\n",
      "Epoch [25/50], Train Loss: 0.310127, Val Loss: 0.380069, Train DFT Loss: 0.309195, Val DFT Loss: 0.375432, Train Sparsity Loss: 0.001863, Val Sparsity Loss: 0.009273\n",
      "Checkpoint saved to saved_models/checkpoint.pt\n",
      "Epoch [26/50], Train Loss: 0.301375, Val Loss: 0.401204, Train DFT Loss: 0.300355, Val DFT Loss: 0.386532, Train Sparsity Loss: 0.002040, Val Sparsity Loss: 0.029342\n",
      "Epoch [27/50], Train Loss: 0.297244, Val Loss: 0.386038, Train DFT Loss: 0.296147, Val DFT Loss: 0.377393, Train Sparsity Loss: 0.002194, Val Sparsity Loss: 0.017290\n",
      "Epoch [28/50], Train Loss: 0.289673, Val Loss: 0.388972, Train DFT Loss: 0.288761, Val DFT Loss: 0.362155, Train Sparsity Loss: 0.001824, Val Sparsity Loss: 0.053634\n",
      "Epoch [29/50], Train Loss: 0.284849, Val Loss: 0.392884, Train DFT Loss: 0.283585, Val DFT Loss: 0.374776, Train Sparsity Loss: 0.002529, Val Sparsity Loss: 0.036217\n",
      "Epoch [30/50], Train Loss: 0.279110, Val Loss: 0.408640, Train DFT Loss: 0.277804, Val DFT Loss: 0.385619, Train Sparsity Loss: 0.002612, Val Sparsity Loss: 0.046042\n",
      "Checkpoint saved to saved_models/checkpoint.pt\n",
      "Epoch [31/50], Train Loss: 0.273809, Val Loss: 0.367889, Train DFT Loss: 0.272829, Val DFT Loss: 0.364243, Train Sparsity Loss: 0.001959, Val Sparsity Loss: 0.007293\n",
      "Epoch [32/50], Train Loss: 0.270678, Val Loss: 0.371230, Train DFT Loss: 0.269755, Val DFT Loss: 0.370435, Train Sparsity Loss: 0.001845, Val Sparsity Loss: 0.001589\n",
      "Epoch [33/50], Train Loss: 0.266773, Val Loss: 0.367393, Train DFT Loss: 0.265833, Val DFT Loss: 0.366672, Train Sparsity Loss: 0.001881, Val Sparsity Loss: 0.001442\n",
      "Epoch [34/50], Train Loss: 0.267172, Val Loss: 0.395277, Train DFT Loss: 0.266108, Val DFT Loss: 0.368303, Train Sparsity Loss: 0.002129, Val Sparsity Loss: 0.053947\n",
      "Epoch [35/50], Train Loss: 0.258525, Val Loss: 0.368825, Train DFT Loss: 0.257614, Val DFT Loss: 0.368101, Train Sparsity Loss: 0.001821, Val Sparsity Loss: 0.001447\n",
      "Checkpoint saved to saved_models/checkpoint.pt\n",
      "Epoch [36/50], Train Loss: 0.255566, Val Loss: 0.369138, Train DFT Loss: 0.254791, Val DFT Loss: 0.368061, Train Sparsity Loss: 0.001550, Val Sparsity Loss: 0.002153\n",
      "Epoch [37/50], Train Loss: 0.253180, Val Loss: 0.384141, Train DFT Loss: 0.252411, Val DFT Loss: 0.380690, Train Sparsity Loss: 0.001537, Val Sparsity Loss: 0.006902\n",
      "Epoch [38/50], Train Loss: 0.249782, Val Loss: 0.413020, Train DFT Loss: 0.248928, Val DFT Loss: 0.400039, Train Sparsity Loss: 0.001707, Val Sparsity Loss: 0.025962\n",
      "Epoch [39/50], Train Loss: 0.248094, Val Loss: 0.378212, Train DFT Loss: 0.247189, Val DFT Loss: 0.372463, Train Sparsity Loss: 0.001811, Val Sparsity Loss: 0.011498\n",
      "Epoch [40/50], Train Loss: 0.239236, Val Loss: 0.394096, Train DFT Loss: 0.238440, Val DFT Loss: 0.381244, Train Sparsity Loss: 0.001592, Val Sparsity Loss: 0.025702\n",
      "Checkpoint saved to saved_models/checkpoint.pt\n",
      "Epoch [41/50], Train Loss: 0.236271, Val Loss: 0.372410, Train DFT Loss: 0.235540, Val DFT Loss: 0.371729, Train Sparsity Loss: 0.001462, Val Sparsity Loss: 0.001361\n",
      "Epoch [42/50], Train Loss: 0.231121, Val Loss: 0.378168, Train DFT Loss: 0.230289, Val DFT Loss: 0.377468, Train Sparsity Loss: 0.001663, Val Sparsity Loss: 0.001400\n",
      "Epoch [43/50], Train Loss: 0.235239, Val Loss: 0.377249, Train DFT Loss: 0.234487, Val DFT Loss: 0.373803, Train Sparsity Loss: 0.001505, Val Sparsity Loss: 0.006892\n",
      "Epoch [44/50], Train Loss: 0.228629, Val Loss: 0.400283, Train DFT Loss: 0.227900, Val DFT Loss: 0.387915, Train Sparsity Loss: 0.001457, Val Sparsity Loss: 0.024735\n",
      "Epoch [45/50], Train Loss: 0.230030, Val Loss: 0.394382, Train DFT Loss: 0.229182, Val DFT Loss: 0.382537, Train Sparsity Loss: 0.001697, Val Sparsity Loss: 0.023691\n",
      "Checkpoint saved to saved_models/checkpoint.pt\n",
      "Epoch [46/50], Train Loss: 0.224479, Val Loss: 0.386479, Train DFT Loss: 0.223720, Val DFT Loss: 0.384193, Train Sparsity Loss: 0.001518, Val Sparsity Loss: 0.004573\n",
      "Epoch [47/50], Train Loss: 0.226335, Val Loss: 0.443285, Train DFT Loss: 0.225492, Val DFT Loss: 0.424541, Train Sparsity Loss: 0.001686, Val Sparsity Loss: 0.037487\n",
      "Epoch [48/50], Train Loss: 0.219369, Val Loss: 0.381899, Train DFT Loss: 0.218548, Val DFT Loss: 0.381314, Train Sparsity Loss: 0.001644, Val Sparsity Loss: 0.001170\n",
      "Epoch [49/50], Train Loss: 0.216124, Val Loss: 0.386646, Train DFT Loss: 0.215409, Val DFT Loss: 0.381074, Train Sparsity Loss: 0.001430, Val Sparsity Loss: 0.011143\n",
      "Epoch [50/50], Train Loss: 0.215746, Val Loss: 0.383746, Train DFT Loss: 0.215033, Val DFT Loss: 0.381744, Train Sparsity Loss: 0.001427, Val Sparsity Loss: 0.004004\n",
      "Checkpoint saved to saved_models/checkpoint.pt\n",
      "Final model saved to saved_models/final/complex_dft_unet_final.pth\n",
      "Training completed successfully. Removed checkpoint file: saved_models/checkpoint.pt\n",
      "Saved loss history to saved_models/loss_history.json\n"
     ]
    }
   ],
   "source": [
    "!python training.py --pkl_path pkl_data/small_training_data.pkl \\\n",
    "    --epochs 50 \\\n",
    "    --batch_size 512 \\\n",
    "    --save_path saved_models \\\n",
    "    --plot_path loss_plots \\\n",
    "    --checkpoint_freq 5 \\\n",
    "    --val \\\n",
    "    --val_split 0.2 \\\n",
    "    --resume "
   ]
  },
  {
   "cell_type": "code",
   "execution_count": 3,
   "metadata": {},
   "outputs": [
    {
     "name": "stdout",
     "output_type": "stream",
     "text": [
      "Processing files:   0%|                                   | 0/1 [00:00<?, ?it/s]\n",
      "Processing: 1221-135767-0012.wav (fs=16000, threshold=0.2, duration=1)\n",
      "Generating clipped signal...\n",
      "Processing: 100%|██████████████████████| 131/131 [00:06<00:00, 21.40iteration/s]\n",
      "Processing files: 100%|███████████████████████████| 1/1 [00:06<00:00,  6.43s/it]\n"
     ]
    }
   ],
   "source": [
    "!python evaluate.py --model_path \"saved_models/final/complex_dft_unet_final.pth\" \\\n",
    "    --test_audio_dir \"custom_sound\" \\\n",
    "    --output_dir \"custom_sound_output\" \\\n",
    "    --target_fs_values 16000 \\\n",
    "    --clipping_thresholds 0.2 \\\n",
    "    --time_clip 1 \\\n",
    "    --factor 0.2 \\\n",
    "    --eval_mode 0 \\\n",
    "    --dynamic 0 \\\n",
    "    --save 0 \\\n",
    "    --delta 300 \\\n",
    "    --c_win 500 \\\n",
    "    --r_mode 0"
   ]
  },
  {
   "cell_type": "code",
   "execution_count": null,
   "metadata": {},
   "outputs": [],
   "source": [
    "# !python plot_loss_history.py --history_file saved_models/loss_history.json --output_path final_plots"
   ]
  },
  {
   "cell_type": "code",
   "execution_count": 2,
   "metadata": {},
   "outputs": [
    {
     "name": "stdout",
     "output_type": "stream",
     "text": [
      "Threshold  Model      Delta SDR            Delta PESQ           Time (s)             Cycles              \n",
      "0.1        Baseline   18.33 (2.17)         1.01 (0.42)          4.76 (1.04)          36733.32 (8044.73)  \n",
      "0.1        Dynamic    18.29 (2.10)         0.97 (0.43)          4.37 (0.92)          26530.55 (5652.93)  \n",
      "0.1        ML         17.96 (2.20)         1.05 (0.40)          4.73 (0.75)          20777.75 (4455.39)  \n",
      "0.3        Baseline   20.69 (4.07)         1.49 (0.55)          5.71 (1.02)          45176.12 (8067.86)  \n",
      "0.3        Dynamic    20.66 (4.02)         1.48 (0.55)          5.27 (0.93)          32789.71 (5745.81)  \n",
      "0.3        ML         21.03 (3.85)         1.53 (0.53)          5.32 (0.72)          25391.88 (4556.79)  \n"
     ]
    }
   ],
   "source": [
    "import pandas as pd\n",
    "\n",
    "# File paths\n",
    "baseline_file = \"/data2/AAG/Audio_Declip/custom_output/evaluation_results_baseline_model.xlsx\"\n",
    "dynamic_file = \"/data2/AAG/Audio_Declip/custom_output/evaluation_results_dynamic_model.xlsx\"\n",
    "ml_file = \"/data2/AAG/Audio_Declip/custom_output/evaluation_results_ml_model.xlsx\"\n",
    "\n",
    "# Load data\n",
    "df_baseline = pd.read_excel(baseline_file)\n",
    "df_dynamic = pd.read_excel(dynamic_file)\n",
    "df_ml = pd.read_excel(ml_file)\n",
    "\n",
    "# Combine in a dict\n",
    "models = {\n",
    "    \"Baseline\": df_baseline,\n",
    "    \"Dynamic\": df_dynamic,\n",
    "    \"ML\": df_ml\n",
    "}\n",
    "\n",
    "# Metrics to summarize\n",
    "metrics = ['delta_sdr', 'delta_pesq', 'processing_time', 'cycles']\n",
    "thresholds = [0.1, 0.3]\n",
    "\n",
    "# Print header\n",
    "print(f\"{'Threshold':<10} {'Model':<10} {'Delta SDR':<20} {'Delta PESQ':<20} {'Time (s)':<20} {'Cycles':<20}\")\n",
    "\n",
    "# Loop by threshold first\n",
    "for threshold in thresholds:\n",
    "    for model_name, df in models.items():\n",
    "        group = df[df['threshold'] == threshold]\n",
    "        values = []\n",
    "        for metric in metrics:\n",
    "            mean = group[metric].mean()\n",
    "            std = group[metric].std()\n",
    "            values.append(f\"{mean:.2f} ({std:.2f})\")\n",
    "        print(f\"{threshold:<10} {model_name:<10} {values[0]:<20} {values[1]:<20} {values[2]:<20} {values[3]:<20}\")\n"
   ]
  },
  {
   "cell_type": "code",
   "execution_count": 1,
   "metadata": {},
   "outputs": [],
   "source": [
    "import pickle\n",
    "\n",
    "# Path to your .pkl file\n",
    "file_path = \"pkl_data/training_data.pkl\"\n",
    "\n",
    "# Load the pickle file\n",
    "with open(file_path, \"rb\") as f:\n",
    "    data = pickle.load(f)"
   ]
  },
  {
   "cell_type": "code",
   "execution_count": 4,
   "metadata": {},
   "outputs": [
    {
     "name": "stdout",
     "output_type": "stream",
     "text": [
      "Plots saved to loss_plots\n"
     ]
    }
   ],
   "source": [
    "!python plot_loss_history.py --history_file /data2/AAG/Audio_Declip/saved_models/loss_history.json"
   ]
  }
 ],
 "metadata": {
  "kernelspec": {
   "display_name": "aagproj",
   "language": "python",
   "name": "python3"
  },
  "language_info": {
   "codemirror_mode": {
    "name": "ipython",
    "version": 3
   },
   "file_extension": ".py",
   "mimetype": "text/x-python",
   "name": "python",
   "nbconvert_exporter": "python",
   "pygments_lexer": "ipython3",
   "version": "3.9.21"
  }
 },
 "nbformat": 4,
 "nbformat_minor": 2
}
