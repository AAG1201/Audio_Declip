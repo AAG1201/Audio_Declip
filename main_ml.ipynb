{
 "cells": [
  {
   "cell_type": "markdown",
   "metadata": {},
   "source": [
    "# Requirements"
   ]
  },
  {
   "cell_type": "code",
   "execution_count": null,
   "metadata": {},
   "outputs": [],
   "source": [
    "%pip install -r requirements.txt"
   ]
  },
  {
   "cell_type": "code",
   "execution_count": 1,
   "metadata": {},
   "outputs": [],
   "source": [
    "!rm -f /data2/AAG/Audio_Declip/logs/*.log"
   ]
  },
  {
   "cell_type": "markdown",
   "metadata": {},
   "source": [
    "# Codes For Background Run"
   ]
  },
  {
   "cell_type": "code",
   "execution_count": null,
   "metadata": {},
   "outputs": [],
   "source": [
    "# nohup python train_data_gen.py --audio_dir \"/data/AAG/MTech_Project_Data/speech_data_filter\"  --cnt 2500  --train_dir \"train_data\" --test_dir \"test_data\" --output_path \"pkl_data\"  --target_fs_values 16000 --clipping_thresholds 0.1 0.2 --time_clip 1 --win_len 500  --win_shift 125 --delta 300 --s_ratio 0.9 > logs/data_gen_log.txt 2>&1 &"
   ]
  },
  {
   "cell_type": "code",
   "execution_count": null,
   "metadata": {},
   "outputs": [],
   "source": [
    "# !python segregate.py --audio_dir \"/data2/AAG/Ausio_Declip/MTech_Project_Data/speech_data_filter\" \\\n",
    "#     --cnt 10 --train_dir \"train_data\" --test_dir \"test_data\" --s_ratio 0.9 "
   ]
  },
  {
   "cell_type": "code",
   "execution_count": 23,
   "metadata": {},
   "outputs": [],
   "source": [
    "# nohup python train_data_gen.py --audio_dir \"/data2/AAG/Audio_Declip/train_data\" --output_path \"pkl_data\" --target_fs_values 16000 --clipping_thresholds 0.2 0.4 0.6 0.8 --time_clip 1 --win_len 500 --win_shift 125 --delta 300 --n_files 20 > logs/train_gen.log 2>&1 &"
   ]
  },
  {
   "cell_type": "code",
   "execution_count": null,
   "metadata": {},
   "outputs": [],
   "source": [
    "# nohup python training.py --pkl_path pkl_data/training_data.pkl --epochs 50 --batch_size 128 --save_path saved_models --plot_path loss_plots --checkpoint_freq 50 --val_split 0.2 --resume --val --dft_size 1000 --max_sparsity 500 --mask_size 500 > logs/training_log.log 2>&1 &"
   ]
  },
  {
   "cell_type": "markdown",
   "metadata": {},
   "source": [
    "# Main deployment"
   ]
  },
  {
   "cell_type": "code",
   "execution_count": null,
   "metadata": {},
   "outputs": [
    {
     "name": "stdout",
     "output_type": "stream",
     "text": [
      "Processing files:   0%|                                   | 0/1 [00:00<?, ?it/s]\n",
      "Processing: 61-70968-0000.wav (fs=16000, threshold=0.2, duration=1, winlen=500)\n",
      "Generating clipped signal...\n",
      "Processing files: 100%|███████████████████████████| 1/1 [00:02<00:00,  2.20s/it]\n"
     ]
    }
   ],
   "source": [
    "!python evaluate.py --model_path \"saved_models/final/complex_dft_unet_final.pth\" \\\n",
    "    --test_audio_dir \"custom_sound\" \\\n",
    "    --output_dir \"custom_sound_output\" \\\n",
    "    --target_fs_values 16000 \\\n",
    "    --clipping_thresholds 0.2 \\\n",
    "    --time_clip 1 \\\n",
    "    --factor 0.8 \\\n",
    "    --eval_mode 1 \\\n",
    "    --dynamic 0 \\\n",
    "    --save 0 \\\n",
    "    --delta 300 \\\n",
    "    --c_win 500 \\\n",
    "    --r_mode 1 \\\n",
    "    --verbose 1"
   ]
  },
  {
   "cell_type": "markdown",
   "metadata": {},
   "source": [
    "# Experiment 1 Variable Time"
   ]
  },
  {
   "cell_type": "code",
   "execution_count": null,
   "metadata": {},
   "outputs": [],
   "source": [
    "# nohup python evaluate.py --test_audio_dir \"/data2/AAG/Audio_Declip/midterm_sounds/Bird_sounds\" --output_dir \"exp1_new/bird_sound\" --target_fs_values 11025 --input_sdrs 1 3 5 7 --time_clip 1 2 4 8 --sdr_mode 1 --pesq_mode 0 --c_win 256 > logs/bird.log 2>&1 &\n",
    "\n",
    "# nohup python evaluate.py --test_audio_dir \"/data2/AAG/Audio_Declip/midterm_sounds/Heart_sounds\" --output_dir \"exp1_new/heart_sound\" --target_fs_values 2000 --input_sdrs 1 3 5 7 --time_clip 1 2 4 8 --sdr_mode 1 --pesq_mode 0 --c_win 512 > logs/heart.log 2>&1 &\n",
    "\n",
    "# nohup python evaluate.py --test_audio_dir \"/data2/AAG/Audio_Declip/midterm_sounds/Lung_sounds\" --output_dir \"exp1_new/lung_sound\" --target_fs_values 4000 --input_sdrs 1 3 5 7 --time_clip 1 2 4 8 --sdr_mode 1 --pesq_mode 0 --c_win 512 > logs/lung.log 2>&1 &\n",
    "\n",
    "# nohup python evaluate.py --test_audio_dir \"/data2/AAG/Audio_Declip/midterm_sounds/Speech_sounds\" --output_dir \"exp1_new/speech_sound\" --target_fs_values 16000 --input_sdrs 1 3 5 7 --time_clip 1 2 4 8 --sdr_mode 1 --pesq_mode 0 --c_win 1024 > logs/speech.log 2>&1 &\n"
   ]
  },
  {
   "cell_type": "code",
   "execution_count": 1,
   "metadata": {},
   "outputs": [
    {
     "name": "stdout",
     "output_type": "stream",
     "text": [
      "Plotting Experiment 1: Duration Analysis\n",
      "Saved plot to /data2/AAG/Audio_Declip/saved_plots/exp1_delta_sdr.png\n",
      "Saved table of values to /data2/AAG/Audio_Declip/saved_plots/exp1_delta_sdr_summary.csv\n",
      "Saved plot to /data2/AAG/Audio_Declip/saved_plots/exp1_processing_time.png\n",
      "Saved table of values to /data2/AAG/Audio_Declip/saved_plots/exp1_processing_time_summary.csv\n"
     ]
    }
   ],
   "source": [
    "from exp_plots import plot_exp1\n",
    "plot_exp1()"
   ]
  },
  {
   "cell_type": "markdown",
   "metadata": {},
   "source": [
    "# Experiment 2 Variable Sampling"
   ]
  },
  {
   "cell_type": "code",
   "execution_count": null,
   "metadata": {},
   "outputs": [],
   "source": [
    "# nohup python evaluate.py --test_audio_dir \"/data2/AAG/Audio_Declip/midterm_sounds/Bird_sounds\" --output_dir \"exp2_new/bird_sound\" --target_fs_values 1378 2756 5512 11025 --input_sdrs 1 3 5 7 --time_clip 1 --sdr_mode 1 --pesq_mode 0 --c_win 256 > logs/bird_resample.log 2>&1 &\n",
    "\n",
    "# nohup python evaluate.py --test_audio_dir \"/data2/AAG/Audio_Declip/midterm_sounds/Heart_sounds\" --output_dir \"exp2_new/heart_sound\" --target_fs_values 250 500 1000 2000 --input_sdrs 1 3 5 7 --time_clip 1 --sdr_mode 1 --pesq_mode 0 --c_win 512 > logs/heart_resample.log 2>&1 &\n",
    "\n",
    "# nohup python evaluate.py --test_audio_dir \"/data2/AAG/Audio_Declip/midterm_sounds/Lung_sounds\" --output_dir \"exp2_new/lung_sound\" --target_fs_values 500 1000 2000 4000 --input_sdrs 1 3 5 7 --time_clip 1 --sdr_mode 1 --pesq_mode 0 --c_win 512 > logs/lung_resample.log 2>&1 &\n",
    "\n",
    "# nohup python evaluate.py --test_audio_dir \"/data2/AAG/Audio_Declip/midterm_sounds/Speech_sounds\" --output_dir \"exp2_new/speech_sound\" --target_fs_values 2000 4000 8000 16000 --input_sdrs 1 3 5 7 --time_clip 1 --sdr_mode 1 --pesq_mode 0 --c_win 1024 --n_files 15 > logs/speech_resample.log 2>&1 &\n"
   ]
  },
  {
   "cell_type": "code",
   "execution_count": 1,
   "metadata": {},
   "outputs": [
    {
     "name": "stdout",
     "output_type": "stream",
     "text": [
      "Plotting Experiment 2: Sampling Rate Analysis\n",
      "Saved plot to /data2/AAG/Audio_Declip/saved_plots/exp2_delta_sdr.png\n",
      "Saved table of values to /data2/AAG/Audio_Declip/saved_plots/exp2_delta_sdr_summary.csv\n",
      "Saved plot to /data2/AAG/Audio_Declip/saved_plots/exp2_processing_time.png\n",
      "Saved table of values to /data2/AAG/Audio_Declip/saved_plots/exp2_processing_time_summary.csv\n"
     ]
    }
   ],
   "source": [
    "from exp_plots import plot_exp2\n",
    "plot_exp2()"
   ]
  },
  {
   "cell_type": "markdown",
   "metadata": {},
   "source": [
    "# Experiment 3 Variable Blocks"
   ]
  },
  {
   "cell_type": "code",
   "execution_count": null,
   "metadata": {},
   "outputs": [],
   "source": [
    "# nohup python evaluate.py --test_audio_dir \"/data2/AAG/Audio_Declip/midterm_sounds/Bird_sounds\" --output_dir \"exp3_new/bird_sound\" --target_fs_values 11025 --input_sdrs 1 3 5 7 --time_clip 1 --sdr_mode 1 --pesq_mode 0 --c_win 110 165 254 375 573 860 1290 1940 2922 4410 --n_files 50 --exp_name timewise_len > logs/bird_blocks.log 2>&1 &\n",
    "\n",
    "# nohup python evaluate.py --test_audio_dir \"/data2/AAG/Audio_Declip/midterm_sounds/Heart_sounds\" --output_dir \"exp3_new/heart_sound\" --target_fs_values 2000 --input_sdrs 1 3 5 7 --time_clip 1 --sdr_mode 1 --pesq_mode 0 --c_win 20 28 38 54 76 106 148 207 286 400 --n_files 50 --exp_name timewise_len > logs/heart_blocks.log 2>&1 &\n",
    "\n",
    "# nohup python evaluate.py --test_audio_dir \"/data2/AAG/Audio_Declip/midterm_sounds/Lung_sounds\" --output_dir \"exp3_new/lung_sound\" --target_fs_values 4000 --input_sdrs 1 3 5 7 --time_clip 1 --sdr_mode 1 --pesq_mode 0 --c_win 40 60 92 136 208 312 468 704 1060 1600 --n_files 50 --exp_name timewise_len > logs/lung_blocks.log 2>&1 &\n",
    "\n",
    "# nohup python evaluate.py --test_audio_dir \"/data2/AAG/Audio_Declip/midterm_sounds/Speech_sounds\" --output_dir \"exp3_new/speech_sound\" --target_fs_values 16000 --input_sdrs 1 3 5 7 --time_clip 1 --sdr_mode 1 --pesq_mode 0 --c_win 160 240 368 544 832 1248 1872 2816 4240 6400 --n_files 50 --exp_name timewise_len > logs/speech_blocks.log 2>&1 &\n"
   ]
  },
  {
   "cell_type": "code",
   "execution_count": null,
   "metadata": {},
   "outputs": [],
   "source": [
    "from exp_plots import plot_exp3\n",
    "plot_exp3()"
   ]
  },
  {
   "cell_type": "markdown",
   "metadata": {},
   "source": [
    "# Dynamic ASPADE "
   ]
  },
  {
   "cell_type": "code",
   "execution_count": null,
   "metadata": {},
   "outputs": [],
   "source": [
    "!python evaluate.py \\\n",
    "--test_audio_dir \"/data2/AAG/Audio_Declip/midterm_sounds/Bird_sounds\" \\\n",
    "--output_dir \"exp/comparison/bird_sound\" \\\n",
    "--target_fs_values 11025 \\\n",
    "--input_sdrs 1 5\\\n",
    "--time_clip 1 \\\n",
    "--sdr_mode 1 \\\n",
    "--pesq_mode 0 \\\n",
    "--dynamic 0 \\\n",
    "--c_win 256 \\\n",
    "--verbose 1 \\\n",
    "--n_files 1 \\\n",
    "--stepsize 1 \\\n",
    "--steprate 2 \\\n",
    "--block_metrics 1\n"
   ]
  },
  {
   "cell_type": "code",
   "execution_count": null,
   "metadata": {},
   "outputs": [],
   "source": [
    "# nohup python evaluate.py --test_audio_dir \"/data2/AAG/Audio_Declip/midterm_sounds/Bird_sounds\" --output_dir \"exp/comparison/bird_sound\" --target_fs_values 11025 --input_sdrs 1 3 5 7 --time_clip 1 --sdr_mode 1 --pesq_mode 0 --dynamic 0 --c_win 256 --block_metrics 1 > logs/bird_baseline.log 2>&1 &\n",
    "\n",
    "# nohup python evaluate.py --test_audio_dir \"/data2/AAG/Audio_Declip/midterm_sounds/Bird_sounds\" --output_dir \"exp/comparison/bird_sound\" --target_fs_values 11025 --input_sdrs 1 3 5 7 --time_clip 1 --sdr_mode 1 --pesq_mode 0 --dynamic 1 --c_win 256 --block_metrics 1 > logs/bird_dynamic.log 2>&1 &\n",
    "\n",
    "\n",
    "# nohup python evaluate.py --test_audio_dir \"/data2/AAG/Audio_Declip/midterm_sounds/Heart_sounds\" --output_dir \"exp/comparison/heart_sound\" --target_fs_values 2000 --input_sdrs 1 3 5 7 --time_clip 1 --sdr_mode 1 --pesq_mode 0 --dynamic 0 --c_win 512 --block_metrics 1 > logs/heart_baseline.log 2>&1 &\n",
    "\n",
    "# nohup python evaluate.py --test_audio_dir \"/data2/AAG/Audio_Declip/midterm_sounds/Heart_sounds\" --output_dir \"exp/comparison/heart_sound\" --target_fs_values 2000 --input_sdrs 1 3 5 7 --time_clip 1 --sdr_mode 1 --pesq_mode 0 --dynamic 1 --c_win 512 --block_metrics 1 > logs/heart_dynamic.log 2>&1 &\n",
    "\n",
    "\n",
    "# nohup python evaluate.py --test_audio_dir \"/data2/AAG/Audio_Declip/midterm_sounds/Lung_sounds\" --output_dir \"exp/comparison/lung_sound\" --target_fs_values 4000 --input_sdrs 1 3 5 7 --time_clip 1 --sdr_mode 1 --pesq_mode 0 --dynamic 0 --c_win 512 --block_metrics 1 > logs/lung_baseline.log 2>&1 &\n",
    "\n",
    "# nohup python evaluate.py --test_audio_dir \"/data2/AAG/Audio_Declip/midterm_sounds/Lung_sounds\" --output_dir \"exp/comparison/lung_sound\" --target_fs_values 4000 --input_sdrs 1 3 5 7 --time_clip 1 --sdr_mode 1 --pesq_mode 0 --dynamic 1 --c_win 512 --block_metrics 1 > logs/lung_dynamic.log 2>&1 &\n",
    "\n",
    "\n",
    "# nohup python evaluate.py --test_audio_dir \"/data2/AAG/Audio_Declip/midterm_sounds/Speech_sounds\" --output_dir \"exp/comparison/speech_sound\" --target_fs_values 16000 --input_sdrs 1 3 5 7 --time_clip 1 --sdr_mode 1 --pesq_mode 0 --dynamic 0 --c_win 1024 --block_metrics 1 > logs/speech_baseline.log 2>&1 &\n",
    "\n",
    "# nohup python evaluate.py --test_audio_dir \"/data2/AAG/Audio_Declip/midterm_sounds/Speech_sounds\" --output_dir \"exp/comparison/speech_sound\" --target_fs_values 16000 --input_sdrs 1 3 5 7 --time_clip 1 --sdr_mode 1 --pesq_mode 0 --dynamic 1 --c_win 1024 --block_metrics 1 > logs/speech_dynamic.log 2>&1 &\n"
   ]
  },
  {
   "cell_type": "code",
   "execution_count": 2,
   "metadata": {},
   "outputs": [
    {
     "name": "stdout",
     "output_type": "stream",
     "text": [
      "Saved objective value comparison plot to /data2/AAG/Audio_Declip/exp/comparison/plots/objective_value_comparison_u2_idx4.png\n",
      "Saved k value comparison plot to /data2/AAG/Audio_Declip/exp/comparison/plots/k_value_comparison_u2_idx4.png\n",
      "Saved summary statistics to /data2/AAG/Audio_Declip/exp/comparison/plots/summary_statistics_u2_idx4.csv\n"
     ]
    },
    {
     "data": {
      "text/html": [
       "<div>\n",
       "<style scoped>\n",
       "    .dataframe tbody tr th:only-of-type {\n",
       "        vertical-align: middle;\n",
       "    }\n",
       "\n",
       "    .dataframe tbody tr th {\n",
       "        vertical-align: top;\n",
       "    }\n",
       "\n",
       "    .dataframe thead th {\n",
       "        text-align: right;\n",
       "    }\n",
       "</style>\n",
       "<table border=\"1\" class=\"dataframe\">\n",
       "  <thead>\n",
       "    <tr style=\"text-align: right;\">\n",
       "      <th></th>\n",
       "      <th>Sound_Type</th>\n",
       "      <th>Baseline_SDR_Mean</th>\n",
       "      <th>Baseline_SDR_Std</th>\n",
       "      <th>Baseline_SDR_Final</th>\n",
       "      <th>Dynamic_SDR_Mean</th>\n",
       "      <th>Dynamic_SDR_Std</th>\n",
       "      <th>Dynamic_SDR_Final</th>\n",
       "      <th>SDR_Improvement</th>\n",
       "      <th>Baseline_K_Mean</th>\n",
       "      <th>Dynamic_K_Mean</th>\n",
       "      <th>K_Difference</th>\n",
       "      <th>Convergence_Iterations</th>\n",
       "    </tr>\n",
       "  </thead>\n",
       "  <tbody>\n",
       "    <tr>\n",
       "      <th>0</th>\n",
       "      <td>Bird</td>\n",
       "      <td>0.4702</td>\n",
       "      <td>0.3757</td>\n",
       "      <td>0.0999</td>\n",
       "      <td>0.4311</td>\n",
       "      <td>0.3144</td>\n",
       "      <td>0.0982</td>\n",
       "      <td>-0.0391</td>\n",
       "      <td>98.7494</td>\n",
       "      <td>102.9624</td>\n",
       "      <td>4.2130</td>\n",
       "      <td>266</td>\n",
       "    </tr>\n",
       "    <tr>\n",
       "      <th>1</th>\n",
       "      <td>Heart</td>\n",
       "      <td>3.4762</td>\n",
       "      <td>4.4551</td>\n",
       "      <td>0.0970</td>\n",
       "      <td>3.2188</td>\n",
       "      <td>3.8823</td>\n",
       "      <td>0.0927</td>\n",
       "      <td>-0.2574</td>\n",
       "      <td>225.2497</td>\n",
       "      <td>229.7890</td>\n",
       "      <td>4.5393</td>\n",
       "      <td>654</td>\n",
       "    </tr>\n",
       "    <tr>\n",
       "      <th>2</th>\n",
       "      <td>Lung</td>\n",
       "      <td>4.2326</td>\n",
       "      <td>6.4344</td>\n",
       "      <td>0.0921</td>\n",
       "      <td>4.0870</td>\n",
       "      <td>6.5875</td>\n",
       "      <td>0.0881</td>\n",
       "      <td>-0.1456</td>\n",
       "      <td>49.0000</td>\n",
       "      <td>47.4968</td>\n",
       "      <td>-1.5032</td>\n",
       "      <td>157</td>\n",
       "    </tr>\n",
       "    <tr>\n",
       "      <th>3</th>\n",
       "      <td>Speech</td>\n",
       "      <td>4.0903</td>\n",
       "      <td>5.5755</td>\n",
       "      <td>0.0993</td>\n",
       "      <td>3.8475</td>\n",
       "      <td>4.8019</td>\n",
       "      <td>0.0940</td>\n",
       "      <td>-0.2428</td>\n",
       "      <td>473.2499</td>\n",
       "      <td>480.2074</td>\n",
       "      <td>6.9575</td>\n",
       "      <td>1244</td>\n",
       "    </tr>\n",
       "  </tbody>\n",
       "</table>\n",
       "</div>"
      ],
      "text/plain": [
       "  Sound_Type  Baseline_SDR_Mean  Baseline_SDR_Std  Baseline_SDR_Final  \\\n",
       "0       Bird             0.4702            0.3757              0.0999   \n",
       "1      Heart             3.4762            4.4551              0.0970   \n",
       "2       Lung             4.2326            6.4344              0.0921   \n",
       "3     Speech             4.0903            5.5755              0.0993   \n",
       "\n",
       "   Dynamic_SDR_Mean  Dynamic_SDR_Std  Dynamic_SDR_Final  SDR_Improvement  \\\n",
       "0            0.4311           0.3144             0.0982          -0.0391   \n",
       "1            3.2188           3.8823             0.0927          -0.2574   \n",
       "2            4.0870           6.5875             0.0881          -0.1456   \n",
       "3            3.8475           4.8019             0.0940          -0.2428   \n",
       "\n",
       "   Baseline_K_Mean  Dynamic_K_Mean  K_Difference  Convergence_Iterations  \n",
       "0          98.7494        102.9624        4.2130                     266  \n",
       "1         225.2497        229.7890        4.5393                     654  \n",
       "2          49.0000         47.4968       -1.5032                     157  \n",
       "3         473.2499        480.2074        6.9575                    1244  "
      ]
     },
     "execution_count": 2,
     "metadata": {},
     "output_type": "execute_result"
    }
   ],
   "source": [
    "from exp_plots import block_analysis\n",
    "file_no=2\n",
    "block_index=4\n",
    "block_analysis(file_no,block_index)"
   ]
  },
  {
   "cell_type": "code",
   "execution_count": null,
   "metadata": {},
   "outputs": [],
   "source": [
    "from exp_plots import plot_comparison\n",
    "plot_comparison()"
   ]
  },
  {
   "cell_type": "markdown",
   "metadata": {},
   "source": [
    "# ML-ASPADE"
   ]
  },
  {
   "cell_type": "code",
   "execution_count": null,
   "metadata": {},
   "outputs": [],
   "source": [
    "# maks 256 batch 32-64 bird\n",
    "# mask 512 batch 16-32 heart,lung\n",
    "# mask 1024 batch 8-16 speech"
   ]
  },
  {
   "cell_type": "markdown",
   "metadata": {},
   "source": [
    "## Heart Sound"
   ]
  },
  {
   "cell_type": "markdown",
   "metadata": {},
   "source": [
    "### Segregate between train and test"
   ]
  },
  {
   "cell_type": "code",
   "execution_count": null,
   "metadata": {},
   "outputs": [
    {
     "name": "stdout",
     "output_type": "stream",
     "text": [
      "Copied 80 files to exp_ml/heart_sound/train_data\n",
      "Copied 20 files to exp_ml/heart_sound/test_data\n"
     ]
    }
   ],
   "source": [
    "# !python segregate.py --audio_dir \"midterm_sounds/Heart_sounds\" \\\n",
    "# --train_dir \"exp_ml/heart_sound/train_data\" \\\n",
    "# --test_dir \"exp_ml/heart_sound/test_data\" \\\n",
    "# --s_ratio 0.8 "
   ]
  },
  {
   "cell_type": "markdown",
   "metadata": {},
   "source": [
    "### Train data generation"
   ]
  },
  {
   "cell_type": "code",
   "execution_count": null,
   "metadata": {},
   "outputs": [],
   "source": [
    "# nohup python train_data_gen.py --audio_dir \"exp_ml/heart_sound/train_data\" --output_path \"exp_ml/heart_sound\" --target_fs_values 2000 --levels 1 3 5 7 --time_clip 1 --win_len 512 --win_shift 128 --delta 300 --sdr_mode 1 --max_audio_length 8 > logs/train_gen_heart.log 2>&1 &\n"
   ]
  },
  {
   "cell_type": "markdown",
   "metadata": {},
   "source": [
    "### Training multiple batch sizes"
   ]
  },
  {
   "cell_type": "code",
   "execution_count": null,
   "metadata": {},
   "outputs": [],
   "source": [
    "# nohup python training.py --pkl_path \"exp_ml/heart_sound/training_data.pkl\" --epochs 200 --batch_size 16 --save_path \"exp_ml/heart_sound/saved_models_batch16\" --plot_path \"exp_ml/heart_sound/loss_plots\" --checkpoint_freq 100 --val_split 0.2 --resume --val --max_sparsity 512 --mask_size 512 > logs/training_heart_16.log 2>&1 &\n",
    "\n",
    "# nohup python training.py --pkl_path \"exp_ml/heart_sound/training_data.pkl\" --epochs 200 --batch_size 32 --save_path \"exp_ml/heart_sound/saved_models_batch32\" --plot_path \"exp_ml/heart_sound/loss_plots\" --checkpoint_freq 100 --val_split 0.2 --resume --val --max_sparsity 512 --mask_size 512 > logs/training_heart_32.log 2>&1 &\n"
   ]
  },
  {
   "cell_type": "code",
   "execution_count": null,
   "metadata": {},
   "outputs": [],
   "source": [
    "from exp_plots import plot_losses_from_json\n",
    "plot_losses_from_json(\n",
    "    json_path='exp_ml/heart_sound/saved_models_batch32/loss_history.json',\n",
    "    plot_type='train',  # Options: 'train', 'val', 'compare', 'all'\n",
    "    save_path='exp_ml/heart_sound/saved_models_batch32'\n",
    ")"
   ]
  },
  {
   "cell_type": "markdown",
   "metadata": {},
   "source": [
    "### Evaluation"
   ]
  },
  {
   "cell_type": "code",
   "execution_count": null,
   "metadata": {},
   "outputs": [],
   "source": [
    "!python run_all_configs.py \\\n",
    "  --model_path \"exp_ml/heart_sound/saved_models_batch4/final/complex_dft_unet_final.pth\" \\\n",
    "  --test_audio_dir \"exp_ml/heart_sound/test_data\" \\\n",
    "  --output_dir \"exp_ml/heart_sound\" \\\n",
    "  --target_fs_values 2000 \\\n",
    "  --input_sdrs 1 \\\n",
    "  --time_clip 1 \\\n",
    "  --factor 0.3 \\\n",
    "  --save 0 \\\n",
    "  --delta 300 \\\n",
    "  --c_win 512 \\\n",
    "  --verbose 0 \\\n",
    "  --sdr_mode 1 \\\n",
    "  --pesq_mode 0 \\\n",
    "  --mask_size 512 \\\n",
    "  --max_sparsity 512 \\\n",
    "  --n_files 5"
   ]
  },
  {
   "cell_type": "code",
   "execution_count": 2,
   "metadata": {},
   "outputs": [
    {
     "name": "stdout",
     "output_type": "stream",
     "text": [
      "Plotting Experiment: All Models Comparison for exp_ml/heart_sound\n",
      "Saved plot to exp_ml/heart_sound/all_model_plots_8/heart_all_models_delta_sdr_1sec.png\n",
      "Saved comparison table to exp_ml/heart_sound/all_model_plots_8/heart_all_models_delta_sdr_1sec.csv\n",
      "\n",
      "=== DELTA_SDR SUMMARY (SDR-wise Across Models) ===\n",
      "SDR (dB)  Baseline    Dynamic     ML1         ML2         \n",
      "----------------------------------------------------------\n",
      "7.0       7.838       8.112       6.426       8.179       \n",
      "Saved plot to exp_ml/heart_sound/all_model_plots_8/heart_all_models_cycles_1sec.png\n",
      "Saved comparison table to exp_ml/heart_sound/all_model_plots_8/heart_all_models_cycles_1sec.csv\n",
      "\n",
      "=== CYCLES SUMMARY (SDR-wise Across Models) ===\n",
      "SDR (dB)  Baseline    Dynamic     ML1         ML2         \n",
      "----------------------------------------------------------\n",
      "7.0       17792.200   13512.000   19.000      12561.600   \n",
      "Saved plot to exp_ml/heart_sound/all_model_plots_8/heart_all_models_processing_time_1sec.png\n",
      "Saved comparison table to exp_ml/heart_sound/all_model_plots_8/heart_all_models_processing_time_1sec.csv\n",
      "\n",
      "=== PROCESSING_TIME SUMMARY (SDR-wise Across Models) ===\n",
      "SDR (dB)  Baseline    Dynamic     ML1         ML2         \n",
      "----------------------------------------------------------\n",
      "7.0       3.371       3.403       0.353       3.023       \n"
     ]
    }
   ],
   "source": [
    "from exp_plots import plot_comparison_all_models\n",
    "plot_comparison_all_models(\"exp_ml/heart_sound\", 8 )"
   ]
  },
  {
   "cell_type": "markdown",
   "metadata": {},
   "source": [
    "## Lung"
   ]
  },
  {
   "cell_type": "markdown",
   "metadata": {},
   "source": [
    "### Segregate between train and test"
   ]
  },
  {
   "cell_type": "code",
   "execution_count": null,
   "metadata": {},
   "outputs": [
    {
     "name": "stdout",
     "output_type": "stream",
     "text": [
      "Copied 75 files to exp_ml/lung_sound/train_data\n",
      "Copied 19 files to exp_ml/lung_sound/test_data\n"
     ]
    }
   ],
   "source": [
    "# !python segregate.py --audio_dir \"midterm_sounds/Lung_sounds\" \\\n",
    "# --train_dir \"exp_ml/lung_sound/train_data\" \\\n",
    "# --test_dir \"exp_ml/lung_sound/test_data\" \\\n",
    "# --s_ratio 0.8 "
   ]
  },
  {
   "cell_type": "markdown",
   "metadata": {},
   "source": [
    "### Train data generation"
   ]
  },
  {
   "cell_type": "code",
   "execution_count": null,
   "metadata": {},
   "outputs": [],
   "source": [
    "# nohup python train_data_gen.py --audio_dir \"exp_ml/lung_sound/train_data\" --output_path \"exp_ml/lung_sound\" --target_fs_values 4000 --levels 1 3 5 7 --time_clip 1 --win_len 512 --win_shift 128 --delta 300 --sdr_mode 1 --max_audio_length 8 > logs/train_data_gen_lung.log 2>&1 &\n"
   ]
  },
  {
   "cell_type": "markdown",
   "metadata": {},
   "source": [
    "### Training multiple batch sizes"
   ]
  },
  {
   "cell_type": "code",
   "execution_count": null,
   "metadata": {},
   "outputs": [],
   "source": [
    "# nohup python training.py --pkl_path \"exp_ml/lung_sound/training_data.pkl\" --epochs 200 --batch_size 16 --save_path \"exp_ml/lung_sound/saved_models_batch16\" --plot_path \"exp_ml/lung_sound/loss_plots\" --checkpoint_freq 100 --val_split 0.2 --resume --val --max_sparsity 512 --mask_size 512 > logs/training_lung_16.log 2>&1 &\n",
    "\n",
    "# nohup python training.py --pkl_path \"exp_ml/lung_sound/training_data.pkl\" --epochs 200 --batch_size 32 --save_path \"exp_ml/lung_sound/saved_models_batch32\" --plot_path \"exp_ml/lung_sound/loss_plots\" --checkpoint_freq 100 --val_split 0.2 --resume --val --max_sparsity 512 --mask_size 512 > logs/training_lung_32.log 2>&1 &\n"
   ]
  },
  {
   "cell_type": "code",
   "execution_count": null,
   "metadata": {},
   "outputs": [],
   "source": [
    "from exp_plots import plot_losses_from_json\n",
    "plot_losses_from_json(\n",
    "    json_path='exp_ml/heart_sound/saved_models_batch32/loss_history.json',\n",
    "    plot_type='train',  # Options: 'train', 'val', 'compare', 'all'\n",
    "    save_path='exp_ml/heart_sound/saved_models_batch32'\n",
    ")"
   ]
  },
  {
   "cell_type": "markdown",
   "metadata": {},
   "source": [
    "### Evaluation"
   ]
  },
  {
   "cell_type": "code",
   "execution_count": null,
   "metadata": {},
   "outputs": [],
   "source": [
    "!python run_all_configs.py \\\n",
    "  --model_path \"exp_ml/heart_sound/saved_models_batch32/final/complex_dft_unet_final.pth\" \\\n",
    "  --test_audio_dir \"exp_ml/heart_sound/test_data\" \\\n",
    "  --output_dir \"exp_ml/heart_sound\" \\\n",
    "  --target_fs_values 2000 \\\n",
    "  --input_sdrs 7 \\\n",
    "  --time_clip 1 \\\n",
    "  --factor 0.3 \\\n",
    "  --save 0 \\\n",
    "  --delta 300 \\\n",
    "  --c_win 512 \\\n",
    "  --verbose 0 \\\n",
    "  --sdr_mode 1 \\\n",
    "  --pesq_mode 0 \\\n",
    "  --mask_size 512 \\\n",
    "  --max_sparsity 512"
   ]
  },
  {
   "cell_type": "code",
   "execution_count": null,
   "metadata": {},
   "outputs": [],
   "source": [
    "from exp_plots import plot_comparison_heart_all_models\n",
    "plot_comparison_heart_all_models()"
   ]
  },
  {
   "cell_type": "markdown",
   "metadata": {},
   "source": [
    "## Bird"
   ]
  },
  {
   "cell_type": "markdown",
   "metadata": {},
   "source": [
    "### Segregate between train and test"
   ]
  },
  {
   "cell_type": "code",
   "execution_count": null,
   "metadata": {},
   "outputs": [
    {
     "name": "stdout",
     "output_type": "stream",
     "text": [
      "Copied 80 files to exp_ml/bird_sound/train_data\n",
      "Copied 20 files to exp_ml/bird_sound/test_data\n"
     ]
    }
   ],
   "source": [
    "# !python segregate.py --audio_dir \"midterm_sounds/Bird_sounds\" \\\n",
    "# --train_dir \"exp_ml/bird_sound/train_data\" \\\n",
    "# --test_dir \"exp_ml/bird_sound/test_data\" \\\n",
    "# --s_ratio 0.8 "
   ]
  },
  {
   "cell_type": "markdown",
   "metadata": {},
   "source": [
    "### Train data generation"
   ]
  },
  {
   "cell_type": "code",
   "execution_count": null,
   "metadata": {},
   "outputs": [],
   "source": [
    "# nohup python train_data_gen.py --audio_dir \"exp_ml/bird_sound/train_data\" --output_path \"exp_ml/bird_sound\" --target_fs_values 11025 --levels 1 3 5 7 --time_clip 1 --win_len 256 --win_shift 64 --delta 300 --sdr_mode 1 --max_audio_length 8  > logs/train_gen_bird.log 2>&1 &\n"
   ]
  },
  {
   "cell_type": "markdown",
   "metadata": {},
   "source": [
    "### Training multiple batch sizes"
   ]
  },
  {
   "cell_type": "code",
   "execution_count": null,
   "metadata": {},
   "outputs": [],
   "source": [
    "# nohup python training.py --pkl_path \"exp_ml/bird_sound/training_data.pkl\" --epochs 200 --batch_size 64 --save_path \"exp_ml/bird_sound/saved_models_batch64\" --plot_path \"exp_ml/bird_sound/loss_plots\" --checkpoint_freq 50 --val_split 0.2 --resume --val --max_sparsity 256 --mask_size 256 > logs/training_bird_64.log 2>&1 &\n",
    "\n",
    "# nohup python training.py --pkl_path \"exp_ml/bird_sound/training_data.pkl\" --epochs 200 --batch_size 32 --save_path \"exp_ml/bird_sound/saved_models_batch32\" --plot_path \"exp_ml/bird_sound/loss_plots\" --checkpoint_freq 50 --val_split 0.2 --resume --val --max_sparsity 256 --mask_size 256 > logs/training_bird_32.log 2>&1 &\n"
   ]
  },
  {
   "cell_type": "code",
   "execution_count": null,
   "metadata": {},
   "outputs": [],
   "source": [
    "from exp_plots import plot_losses_from_json\n",
    "plot_losses_from_json(\n",
    "    json_path='exp_ml/heart_sound/saved_models_batch32/loss_history.json',\n",
    "    plot_type='train',  # Options: 'train', 'val', 'compare', 'all'\n",
    "    save_path='exp_ml/heart_sound/saved_models_batch32'\n",
    ")"
   ]
  },
  {
   "cell_type": "markdown",
   "metadata": {},
   "source": [
    "### Evaluation"
   ]
  },
  {
   "cell_type": "code",
   "execution_count": null,
   "metadata": {},
   "outputs": [],
   "source": [
    "!python run_all_configs.py \\\n",
    "  --model_path \"exp_ml/heart_sound/saved_models_batch32/final/complex_dft_unet_final.pth\" \\\n",
    "  --test_audio_dir \"exp_ml/heart_sound/test_data\" \\\n",
    "  --output_dir \"exp_ml/heart_sound\" \\\n",
    "  --target_fs_values 2000 \\\n",
    "  --input_sdrs 7 \\\n",
    "  --time_clip 1 \\\n",
    "  --factor 0.3 \\\n",
    "  --save 0 \\\n",
    "  --delta 300 \\\n",
    "  --c_win 512 \\\n",
    "  --verbose 0 \\\n",
    "  --sdr_mode 1 \\\n",
    "  --pesq_mode 0 \\\n",
    "  --mask_size 512 \\\n",
    "  --max_sparsity 512"
   ]
  },
  {
   "cell_type": "code",
   "execution_count": null,
   "metadata": {},
   "outputs": [],
   "source": [
    "from exp_plots import plot_comparison_heart_all_models\n",
    "plot_comparison_heart_all_models()"
   ]
  },
  {
   "cell_type": "markdown",
   "metadata": {},
   "source": [
    "## Speech"
   ]
  },
  {
   "cell_type": "markdown",
   "metadata": {},
   "source": [
    "### Segregate between train and test"
   ]
  },
  {
   "cell_type": "code",
   "execution_count": null,
   "metadata": {},
   "outputs": [
    {
     "name": "stdout",
     "output_type": "stream",
     "text": [
      "Copied 80 files to exp_ml/speech_sound/train_data\n",
      "Copied 20 files to exp_ml/speech_sound/test_data\n"
     ]
    }
   ],
   "source": [
    "# !python segregate.py --audio_dir \"midterm_sounds/Speech_sounds\" \\\n",
    "# --train_dir \"exp_ml/speech_sound/train_data\" \\\n",
    "# --test_dir \"exp_ml/speech_sound/test_data\" \\\n",
    "# --s_ratio 0.8 "
   ]
  },
  {
   "cell_type": "markdown",
   "metadata": {},
   "source": [
    "### Train data generation"
   ]
  },
  {
   "cell_type": "code",
   "execution_count": null,
   "metadata": {},
   "outputs": [],
   "source": [
    "# nohup python train_data_gen.py --audio_dir \"exp_ml/speech_sound/train_data\" --output_path \"exp_ml/speech_sound\" --target_fs_values 16000 --levels 1 3 5 7 --time_clip 1 --win_len 1024 --win_shift 256 --delta 300 --sdr_mode 1 --max_audio_length 8  > logs/train_gen_speech.log 2>&1 &\n"
   ]
  },
  {
   "cell_type": "markdown",
   "metadata": {},
   "source": [
    "### Training multiple batch sizes"
   ]
  },
  {
   "cell_type": "code",
   "execution_count": null,
   "metadata": {},
   "outputs": [],
   "source": [
    "# nohup python training.py --pkl_path \"exp_ml/speech_sound/training_data.pkl\" --epochs 200 --batch_size 8 --save_path \"exp_ml/speech_sound/saved_models_batch8\" --plot_path \"exp_ml/speech_sound/loss_plots\" --checkpoint_freq 50 --val_split 0.2 --resume --val --max_sparsity 1024 --mask_size 1024 > logs/training_bird_8.log 2>&1 &\n",
    "\n",
    "# nohup python training.py --pkl_path \"exp_ml/speech_sound/training_data.pkl\" --epochs 200 --batch_size 16 --save_path \"exp_ml/speech_sound/saved_models_batch16\" --plot_path \"exp_ml/speech_sound/loss_plots\" --checkpoint_freq 50 --val_split 0.2 --resume --val --max_sparsity 1024 --mask_size 1024 > logs/training_bird_16.log 2>&1 &\n"
   ]
  },
  {
   "cell_type": "code",
   "execution_count": null,
   "metadata": {},
   "outputs": [],
   "source": [
    "from exp_plots import plot_losses_from_json\n",
    "plot_losses_from_json(\n",
    "    json_path='exp_ml/heart_sound/saved_models_batch32/loss_history.json',\n",
    "    plot_type='train',  # Options: 'train', 'val', 'compare', 'all'\n",
    "    save_path='exp_ml/heart_sound/saved_models_batch32'\n",
    ")"
   ]
  },
  {
   "cell_type": "markdown",
   "metadata": {},
   "source": [
    "### Evaluation"
   ]
  },
  {
   "cell_type": "code",
   "execution_count": null,
   "metadata": {},
   "outputs": [],
   "source": [
    "!python run_all_configs.py \\\n",
    "  --model_path \"exp_ml/heart_sound/saved_models_batch32/final/complex_dft_unet_final.pth\" \\\n",
    "  --test_audio_dir \"exp_ml/heart_sound/test_data\" \\\n",
    "  --output_dir \"exp_ml/heart_sound\" \\\n",
    "  --target_fs_values 2000 \\\n",
    "  --input_sdrs 7 \\\n",
    "  --time_clip 1 \\\n",
    "  --factor 0.3 \\\n",
    "  --save 0 \\\n",
    "  --delta 300 \\\n",
    "  --c_win 512 \\\n",
    "  --verbose 0 \\\n",
    "  --sdr_mode 1 \\\n",
    "  --pesq_mode 0 \\\n",
    "  --mask_size 512 \\\n",
    "  --max_sparsity 512"
   ]
  },
  {
   "cell_type": "code",
   "execution_count": null,
   "metadata": {},
   "outputs": [],
   "source": [
    "from exp_plots import plot_comparison_heart_all_models\n",
    "plot_comparison_heart_all_models()"
   ]
  },
  {
   "cell_type": "markdown",
   "metadata": {},
   "source": [
    "# LibriData Evaluation"
   ]
  },
  {
   "cell_type": "code",
   "execution_count": 2,
   "metadata": {},
   "outputs": [
    {
     "name": "stdout",
     "output_type": "stream",
     "text": [
      "Threshold  Model      Delta SDR            Delta PESQ           Time (s)             Cycles              \n",
      "0.1        Baseline   18.33 (2.17)         1.01 (0.42)          4.76 (1.04)          36733.32 (8044.73)  \n",
      "0.1        Dynamic    18.29 (2.10)         0.97 (0.43)          4.37 (0.92)          26530.55 (5652.93)  \n",
      "0.1        ML         17.96 (2.20)         1.05 (0.40)          4.73 (0.75)          20777.75 (4455.39)  \n",
      "0.3        Baseline   20.69 (4.07)         1.49 (0.55)          5.71 (1.02)          45176.12 (8067.86)  \n",
      "0.3        Dynamic    20.66 (4.02)         1.48 (0.55)          5.27 (0.93)          32789.71 (5745.81)  \n",
      "0.3        ML         21.03 (3.85)         1.53 (0.53)          5.32 (0.72)          25391.88 (4556.79)  \n"
     ]
    }
   ],
   "source": [
    "import pandas as pd\n",
    "\n",
    "# File paths\n",
    "baseline_file = \"/data2/AAG/Audio_Declip/custom_output/evaluation_results_baseline_model.xlsx\"\n",
    "dynamic_file = \"/data2/AAG/Audio_Declip/custom_output/evaluation_results_dynamic_model.xlsx\"\n",
    "ml_file = \"/data2/AAG/Audio_Declip/custom_output/evaluation_results_ml_model.xlsx\"\n",
    "\n",
    "# Load data\n",
    "df_baseline = pd.read_excel(baseline_file)\n",
    "df_dynamic = pd.read_excel(dynamic_file)\n",
    "df_ml = pd.read_excel(ml_file)\n",
    "\n",
    "# Combine in a dict\n",
    "models = {\n",
    "    \"Baseline\": df_baseline,\n",
    "    \"Dynamic\": df_dynamic,\n",
    "    \"ML\": df_ml\n",
    "}\n",
    "\n",
    "# Metrics to summarize\n",
    "metrics = ['delta_sdr', 'delta_pesq', 'processing_time', 'cycles']\n",
    "thresholds = [0.1, 0.3]\n",
    "\n",
    "# Print header\n",
    "print(f\"{'Threshold':<10} {'Model':<10} {'Delta SDR':<20} {'Delta PESQ':<20} {'Time (s)':<20} {'Cycles':<20}\")\n",
    "\n",
    "# Loop by threshold first\n",
    "for threshold in thresholds:\n",
    "    for model_name, df in models.items():\n",
    "        group = df[df['threshold'] == threshold]\n",
    "        values = []\n",
    "        for metric in metrics:\n",
    "            mean = group[metric].mean()\n",
    "            std = group[metric].std()\n",
    "            values.append(f\"{mean:.2f} ({std:.2f})\")\n",
    "        print(f\"{threshold:<10} {model_name:<10} {values[0]:<20} {values[1]:<20} {values[2]:<20} {values[3]:<20}\")\n"
   ]
  },
  {
   "cell_type": "code",
   "execution_count": 4,
   "metadata": {},
   "outputs": [
    {
     "name": "stdout",
     "output_type": "stream",
     "text": [
      "Plots saved to loss_plots\n"
     ]
    }
   ],
   "source": [
    "!python plot_loss_history.py --history_file /data2/AAG/Audio_Declip/saved_models/loss_history.json"
   ]
  },
  {
   "cell_type": "markdown",
   "metadata": {},
   "source": [
    "# Extras"
   ]
  }
 ],
 "metadata": {
  "kernelspec": {
   "display_name": "aagproj",
   "language": "python",
   "name": "python3"
  },
  "language_info": {
   "codemirror_mode": {
    "name": "ipython",
    "version": 3
   },
   "file_extension": ".py",
   "mimetype": "text/x-python",
   "name": "python",
   "nbconvert_exporter": "python",
   "pygments_lexer": "ipython3",
   "version": "3.9.21"
  }
 },
 "nbformat": 4,
 "nbformat_minor": 2
}
